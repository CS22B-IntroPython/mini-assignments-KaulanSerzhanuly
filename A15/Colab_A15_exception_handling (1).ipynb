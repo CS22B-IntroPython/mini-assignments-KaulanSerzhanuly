{
  "cells": [
    {
      "cell_type": "markdown",
      "source": [
        "# Exception handlling"
      ],
      "metadata": {
        "id": "cYNS6s1m6Eah"
      }
    },
    {
      "cell_type": "markdown",
      "source": [
        "Kaulan Serzhnauly\n",
        "CS22B\n"
      ],
      "metadata": {
        "id": "vslrP42LHKK2"
      }
    },
    {
      "cell_type": "markdown",
      "source": [
        "## Hands-on Problem - (3 points)\n",
        "\n",
        "Write a Python function calculate_square_root(number) that takes a single argument number. The function should:\n",
        "\n",
        "Raise a ValueError with the message \"Input must be a non-negative number\" if the input is negative.\n",
        "\n",
        "Use a try-except block to catch the ValueError when you call the function and print the error message.\n",
        "If no exception occurs, return the square root of the number (you can use number ** 0.5 for simplicity)."
      ],
      "metadata": {
        "id": "JaZ1okehzPDJ"
      }
    },
    {
      "cell_type": "code",
      "source": [
        "def calculate_square_root(number):\n",
        "    if number < 0:\n",
        "        raise ValueError(\"Input must be a non-negative number\")\n",
        "    return number ** 0.5\n",
        "\n",
        "# Example usage with try-except\n",
        "try:\n",
        "    num = float(input(\"Enter a number: \"))\n",
        "    result = calculate_square_root(num)\n",
        "    print(\"Square root:\", result)\n",
        "except ValueError as e:\n",
        "    print(\"Error:\", e)"
      ],
      "metadata": {
        "id": "XW3T2JmpzOel",
        "colab": {
          "base_uri": "https://localhost:8080/"
        },
        "outputId": "116fee44-1b5c-4ea0-b3fd-0d987b905d37"
      },
      "execution_count": 2,
      "outputs": [
        {
          "output_type": "stream",
          "name": "stdout",
          "text": [
            "Enter a number: -1\n",
            "Error: Input must be a non-negative number\n"
          ]
        }
      ]
    },
    {
      "cell_type": "markdown",
      "metadata": {
        "id": "YKRqhi_rk_zc"
      },
      "source": [
        "## Hands-on Problem - (5 points) ##\n",
        "\n",
        "A Python programmer has written a piece of code below, that reads a DNA sequence from a file and splits it up into a set number of equal-sized pieces (ignoring any incomplete pieces at the end of the sequence). It asks the user to enter the name of the file and the number of pieces, calculates the length of each piece (by dividing the total length by the number of pieces), then uses a range() to print out each piece.\n",
        "\n",
        "Re-write the python program in the empty cell below. Use try/except blocks to handle all the potential exceptions that may arise such as giving it the name of a non-existent file, or entering zero when asked for the number of pieces – or indeed, entering something that isn't a number at all when asked for the number of pieces. The input file `dna_test.txt` can be used to test your program."
      ]
    },
    {
      "cell_type": "code",
      "execution_count": null,
      "metadata": {
        "id": "zyVo0xbBk_zj"
      },
      "outputs": [],
      "source": [
        "## This is the original python program\n",
        "import os\n",
        "import sys\n",
        "\n",
        "DNA=\"CTAGCTAGGCGAGCTACGAGAGCTAGCGAGACATCGATCAGTACGATCGACTCGACTAGCTACGACTACGATCAGCTACGATC\"\n",
        "f = open(\"dna_test.txt\", 'w')\n",
        "f.write(DNA)\n",
        "f.close()\n",
        "\n",
        "# check for valid filename\n",
        "input_file = input('enter filename:\\n')\n",
        "if not os.path.isfile(input_file):\n",
        "    sys.exit('not a valid filename')\n",
        "\n",
        "f = open(input_file)\n",
        "dna = f.read().rstrip(\"\\n\")\n",
        "\n",
        "# check for valid number\n",
        "pieces = input('enter number of pieces:\\n')\n",
        "if not pieces.isdigit():\n",
        "    sys.exit('not a valid number')\n",
        "\n",
        "# check that number is not zero or negative\n",
        "pieces = int(pieces)\n",
        "if pieces <= 0:\n",
        "    sys.exit('number of pieces must be greater than zero')\n",
        "# do the processing\n",
        "piece_length = int(len(dna) / pieces)\n",
        "print('piece length is ' + str(piece_length))\n",
        "for start in range(0, len(dna)-piece_length+1, piece_length):\n",
        "    print(dna[start:start+piece_length])"
      ]
    },
    {
      "cell_type": "code",
      "execution_count": 4,
      "metadata": {
        "id": "AqJtpC7uk_zm",
        "colab": {
          "base_uri": "https://localhost:8080/"
        },
        "outputId": "9aed5e8e-01f8-4199-f1cb-6588aa906300"
      },
      "outputs": [
        {
          "output_type": "stream",
          "name": "stdout",
          "text": [
            "Enter filename:\n",
            "dna_test.txt\n",
            "Enter number of pieces:\n",
            "1\n",
            "Piece length is 83\n",
            "CTAGCTAGGCGAGCTACGAGAGCTAGCGAGACATCGATCAGTACGATCGACTCGACTAGCTACGACTACGATCAGCTACGATC\n"
          ]
        }
      ],
      "source": [
        "## Rewrite the code above using try/except blocks\n",
        "# Your code here . . .\n",
        "import os\n",
        "\n",
        "# Create the test DNA file (for demonstration)\n",
        "DNA = \"CTAGCTAGGCGAGCTACGAGAGCTAGCGAGACATCGATCAGTACGATCGACTCGACTAGCTACGACTACGATCAGCTACGATC\"\n",
        "with open(\"dna_test.txt\", 'w') as f:\n",
        "    f.write(DNA)\n",
        "\n",
        "try:\n",
        "    input_file = input(\"Enter filename:\\n\")\n",
        "\n",
        "    # Check if file exists\n",
        "    if not os.path.isfile(input_file):\n",
        "        raise FileNotFoundError(\"File not found.\")\n",
        "\n",
        "    # Try opening and reading the file\n",
        "    with open(input_file) as f:\n",
        "        dna = f.read().rstrip(\"\\n\")\n",
        "\n",
        "    pieces_input = input(\"Enter number of pieces:\\n\")\n",
        "\n",
        "    # Try converting to integer\n",
        "    pieces = int(pieces_input)\n",
        "\n",
        "    if pieces <= 0:\n",
        "        raise ValueError(\"Number of pieces must be greater than zero.\")\n",
        "\n",
        "    # Do the processing\n",
        "    piece_length = int(len(dna) / pieces)\n",
        "    print(\"Piece length is\", piece_length)\n",
        "\n",
        "    for start in range(0, len(dna) - piece_length + 1, piece_length):\n",
        "        print(dna[start:start + piece_length])\n",
        "\n",
        "except FileNotFoundError as fnf_error:\n",
        "    print(\"Error:\", fnf_error)\n",
        "except ValueError as val_error:\n",
        "    print(\"Error:\", val_error)\n",
        "except Exception as e:\n",
        "    print(\"An unexpected error occurred:\", e)\n"
      ]
    },
    {
      "cell_type": "markdown",
      "source": [
        "## Hands-on Problem - (7 points)\n",
        "Write a Python class TemperatureConverter with the following functionality:\n",
        "\n",
        "\n",
        "### Constructor (__init__):\n",
        "\n",
        "\n",
        "1. Accepts two parameters: a numeric temperature and a scale (\"C\" for Celsius or \"F\" for Fahrenheit).\n",
        "\n",
        "2. Validates that: temperature is a number. Raise a TypeError if not.\n",
        "scale is either \"C\" or \"F\" (case-insensitive). Raise a ValueError if invalid.\n",
        "\n",
        "### Methods:\n",
        "\n",
        "1. to_fahrenheit(): Converts the temperature to Fahrenheit:\n",
        "-> If the scale is \"C\", check if the input is above absolute zero (-273.15°C). If not, raise a ValueError.\n",
        "-> If the scale is \"F\", return the temperature as-is.\n",
        "2. to_celsius(): Converts the temperature to Celsius:\n",
        "-> If the scale is \"F\", check if the input is above absolute zero (-459.67°F). If not, raise a ValueError.\n",
        "-> If the scale is \"C\", return the temperature as-is.\n",
        "\n",
        "### Requirements:\n",
        "\n",
        "Implement exception handling (try-except) for invalid inputs when creating an instance of the class or calling its methods.\n",
        "\n",
        "Demonstrate the following cases:\n",
        "\n",
        "Converting 100°C to Fahrenheit.\n",
        "\n",
        "Converting 32°F to Celsius.\n",
        "\n",
        "Passing an invalid scale (e.g., \"K\") to the constructor.\n",
        "\n",
        "Providing a temperature below absolute zero for either scale.\n"
      ],
      "metadata": {
        "id": "3TRVs2PUIB9_"
      }
    },
    {
      "cell_type": "code",
      "source": [
        "class TemperatureConverter:\n",
        "    def __init__(self, temperature, scale):\n",
        "        # Validate temperature is numeric\n",
        "        if not isinstance(temperature, (int, float)):\n",
        "            raise TypeError(\"Temperature must be a number.\")\n",
        "\n",
        "        # Validate scale\n",
        "        if scale.upper() not in ['C', 'F']:\n",
        "            raise ValueError(\"Scale must be 'C' for Celsius or 'F' for Fahrenheit.\")\n",
        "\n",
        "        self.temperature = temperature\n",
        "        self.scale = scale.upper()\n",
        "\n",
        "    def to_fahrenheit(self):\n",
        "        if self.scale == 'C':\n",
        "            if self.temperature < -273.15:\n",
        "                raise ValueError(\"Temperature below absolute zero in Celsius.\")\n",
        "            return self.temperature * 9/5 + 32\n",
        "        else:\n",
        "            return self.temperature\n",
        "\n",
        "    def to_celsius(self):\n",
        "        if self.scale == 'F':\n",
        "            if self.temperature < -459.67:\n",
        "                raise ValueError(\"Temperature below absolute zero in Fahrenheit.\")\n",
        "            return (self.temperature - 32) * 5/9\n",
        "        else:\n",
        "            return self.temperature\n",
        "\n",
        "\n",
        "# Demonstration of required test cases\n",
        "print(\"Demonstration:\\n\")\n",
        "\n",
        "# 1. Converting 100°C to Fahrenheit\n",
        "try:\n",
        "    temp1 = TemperatureConverter(100, 'C')\n",
        "    print(\"100°C to Fahrenheit:\", temp1.to_fahrenheit())\n",
        "except Exception as e:\n",
        "    print(\"Error:\", e)\n",
        "\n",
        "# 2. Converting 32°F to Celsius\n",
        "try:\n",
        "    temp2 = TemperatureConverter(32, 'F')\n",
        "    print(\"32°F to Celsius:\", temp2.to_celsius())\n",
        "except Exception as e:\n",
        "    print(\"Error:\", e)\n",
        "\n",
        "# 3. Invalid scale \"K\"\n",
        "try:\n",
        "    temp3 = TemperatureConverter(100, 'K')\n",
        "except Exception as e:\n",
        "    print(\"Invalid scale test:\", e)\n",
        "\n",
        "# 4. Temperature below absolute zero in Celsius\n",
        "try:\n",
        "    temp4 = TemperatureConverter(-300, 'C')\n",
        "    print(\"Below absolute zero (C):\", temp4.to_fahrenheit())\n",
        "except Exception as e:\n",
        "    print(\"Absolute zero check (C):\", e)\n",
        "\n",
        "# 5. Temperature below absolute zero in Fahrenheit\n",
        "try:\n",
        "    temp5 = TemperatureConverter(-500, 'F')\n",
        "    print(\"Below absolute zero (F):\", temp5.to_celsius())\n",
        "except Exception as e:\n",
        "    print(\"Absolute zero check (F):\", e)"
      ],
      "metadata": {
        "id": "wvLYm-IWKwSm",
        "colab": {
          "base_uri": "https://localhost:8080/"
        },
        "outputId": "08a67699-5bdf-4997-ea7f-5a9578570f15"
      },
      "execution_count": 5,
      "outputs": [
        {
          "output_type": "stream",
          "name": "stdout",
          "text": [
            "Demonstration:\n",
            "\n",
            "100°C to Fahrenheit: 212.0\n",
            "32°F to Celsius: 0.0\n",
            "Invalid scale test: Scale must be 'C' for Celsius or 'F' for Fahrenheit.\n",
            "Absolute zero check (C): Temperature below absolute zero in Celsius.\n",
            "Absolute zero check (F): Temperature below absolute zero in Fahrenheit.\n"
          ]
        }
      ]
    }
  ],
  "metadata": {
    "hide_input": false,
    "kernelspec": {
      "display_name": "Python 3",
      "language": "python",
      "name": "python3"
    },
    "language_info": {
      "codemirror_mode": {
        "name": "ipython",
        "version": 3
      },
      "file_extension": ".py",
      "mimetype": "text/x-python",
      "name": "python",
      "nbconvert_exporter": "python",
      "pygments_lexer": "ipython3",
      "version": "3.8.3"
    },
    "toc": {
      "base_numbering": 1,
      "nav_menu": {},
      "number_sections": true,
      "sideBar": true,
      "skip_h1_title": false,
      "title_cell": "Table of Contents",
      "title_sidebar": "Contents",
      "toc_cell": false,
      "toc_position": {},
      "toc_section_display": true,
      "toc_window_display": false
    },
    "colab": {
      "provenance": []
    }
  },
  "nbformat": 4,
  "nbformat_minor": 0
}