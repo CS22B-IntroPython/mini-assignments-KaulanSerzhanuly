{
  "cells": [
    {
      "cell_type": "markdown",
      "metadata": {
        "id": "XXueMou6e2fW"
      },
      "source": [
        "# Data Exploration with Pandas\n",
        "<table><tr><td>\n",
        "<img src=\"https://resizing.flixster.com/Grjhpv0wcwgi-uhfaC3QM8KFglY=/ems.cHJkLWVtcy1hc3NldHMvbW92aWVzLzdmOWE4MWFiLWVlOWMtNDA4Mi05OTA0LTRiNjMxNTEwMzk1MC5qcGc=\" height=300><a href=\"https://resizing.flixster.com/Grjhpv0wcwgi-uhfaC3QM8KFglY=/ems.cHJkLWVtcy1hc3NldHMvbW92aWVzLzdmOWE4MWFiLWVlOWMtNDA4Mi05OTA0LTRiNjMxNTEwMzk1MC5qcGc=\">source</a></td><td><img src=\"https://encrypted-tbn2.gstatic.com/images?q=tbn:ANd9GcRQCHfe9VV3K3Efxv5PYQ_6NYpB20WkKS1zW21UEUmhW1lalECnbwTH3nwQL8XprEMTUCtPeA\" height=300><a href=\"https://encrypted-tbn2.gstatic.com/images?q=tbn:ANd9GcRQCHfe9VV3K3Efxv5PYQ_6NYpB20WkKS1zW21UEUmhW1lalECnbwTH3nwQL8XprEMTUCtPeA\">source</a></td></tr></table>"
      ]
    },
    {
      "cell_type": "code",
      "execution_count": 10,
      "metadata": {
        "id": "hyL8ePRTe2fa"
      },
      "outputs": [],
      "source": [
        "# importing the package(s) we want to use\n",
        "import pandas as pd"
      ]
    },
    {
      "cell_type": "markdown",
      "metadata": {
        "id": "6PdpBU4Ce2fi"
      },
      "source": [
        "### Let's explore the movies data set more! ###\n",
        "We'll use the `pd.read_csv()` function to read the csv file into a DataFrame."
      ]
    },
    {
      "cell_type": "code",
      "execution_count": 11,
      "metadata": {
        "id": "HlU8VYjYe2fi",
        "colab": {
          "base_uri": "https://localhost:8080/",
          "height": 206
        },
        "outputId": "9ae3c83b-a0e0-4d6c-fb41-57cd0d527d29"
      },
      "outputs": [
        {
          "output_type": "execute_result",
          "data": {
            "text/plain": [
              "                                Title      Gross  Gross (Adjusted)  Year\n",
              "0                  Gone with the Wind  200852579        1895421694  1939\n",
              "1  Star Wars: Episode IV - A New Hope  460998507        1668979715  1977\n",
              "2                  The Sound of Music  159287539        1335086324  1965\n",
              "3          E.T. the Extra-Terrestrial  435110554        1329174791  1982\n",
              "4                             Titanic  659363944        1270101626  1997"
            ],
            "text/html": [
              "\n",
              "  <div id=\"df-b5b09ee9-d538-4d74-970c-4717a9b496ee\" class=\"colab-df-container\">\n",
              "    <div>\n",
              "<style scoped>\n",
              "    .dataframe tbody tr th:only-of-type {\n",
              "        vertical-align: middle;\n",
              "    }\n",
              "\n",
              "    .dataframe tbody tr th {\n",
              "        vertical-align: top;\n",
              "    }\n",
              "\n",
              "    .dataframe thead th {\n",
              "        text-align: right;\n",
              "    }\n",
              "</style>\n",
              "<table border=\"1\" class=\"dataframe\">\n",
              "  <thead>\n",
              "    <tr style=\"text-align: right;\">\n",
              "      <th></th>\n",
              "      <th>Title</th>\n",
              "      <th>Gross</th>\n",
              "      <th>Gross (Adjusted)</th>\n",
              "      <th>Year</th>\n",
              "    </tr>\n",
              "  </thead>\n",
              "  <tbody>\n",
              "    <tr>\n",
              "      <th>0</th>\n",
              "      <td>Gone with the Wind</td>\n",
              "      <td>200852579</td>\n",
              "      <td>1895421694</td>\n",
              "      <td>1939</td>\n",
              "    </tr>\n",
              "    <tr>\n",
              "      <th>1</th>\n",
              "      <td>Star Wars: Episode IV - A New Hope</td>\n",
              "      <td>460998507</td>\n",
              "      <td>1668979715</td>\n",
              "      <td>1977</td>\n",
              "    </tr>\n",
              "    <tr>\n",
              "      <th>2</th>\n",
              "      <td>The Sound of Music</td>\n",
              "      <td>159287539</td>\n",
              "      <td>1335086324</td>\n",
              "      <td>1965</td>\n",
              "    </tr>\n",
              "    <tr>\n",
              "      <th>3</th>\n",
              "      <td>E.T. the Extra-Terrestrial</td>\n",
              "      <td>435110554</td>\n",
              "      <td>1329174791</td>\n",
              "      <td>1982</td>\n",
              "    </tr>\n",
              "    <tr>\n",
              "      <th>4</th>\n",
              "      <td>Titanic</td>\n",
              "      <td>659363944</td>\n",
              "      <td>1270101626</td>\n",
              "      <td>1997</td>\n",
              "    </tr>\n",
              "  </tbody>\n",
              "</table>\n",
              "</div>\n",
              "    <div class=\"colab-df-buttons\">\n",
              "\n",
              "  <div class=\"colab-df-container\">\n",
              "    <button class=\"colab-df-convert\" onclick=\"convertToInteractive('df-b5b09ee9-d538-4d74-970c-4717a9b496ee')\"\n",
              "            title=\"Convert this dataframe to an interactive table.\"\n",
              "            style=\"display:none;\">\n",
              "\n",
              "  <svg xmlns=\"http://www.w3.org/2000/svg\" height=\"24px\" viewBox=\"0 -960 960 960\">\n",
              "    <path d=\"M120-120v-720h720v720H120Zm60-500h600v-160H180v160Zm220 220h160v-160H400v160Zm0 220h160v-160H400v160ZM180-400h160v-160H180v160Zm440 0h160v-160H620v160ZM180-180h160v-160H180v160Zm440 0h160v-160H620v160Z\"/>\n",
              "  </svg>\n",
              "    </button>\n",
              "\n",
              "  <style>\n",
              "    .colab-df-container {\n",
              "      display:flex;\n",
              "      gap: 12px;\n",
              "    }\n",
              "\n",
              "    .colab-df-convert {\n",
              "      background-color: #E8F0FE;\n",
              "      border: none;\n",
              "      border-radius: 50%;\n",
              "      cursor: pointer;\n",
              "      display: none;\n",
              "      fill: #1967D2;\n",
              "      height: 32px;\n",
              "      padding: 0 0 0 0;\n",
              "      width: 32px;\n",
              "    }\n",
              "\n",
              "    .colab-df-convert:hover {\n",
              "      background-color: #E2EBFA;\n",
              "      box-shadow: 0px 1px 2px rgba(60, 64, 67, 0.3), 0px 1px 3px 1px rgba(60, 64, 67, 0.15);\n",
              "      fill: #174EA6;\n",
              "    }\n",
              "\n",
              "    .colab-df-buttons div {\n",
              "      margin-bottom: 4px;\n",
              "    }\n",
              "\n",
              "    [theme=dark] .colab-df-convert {\n",
              "      background-color: #3B4455;\n",
              "      fill: #D2E3FC;\n",
              "    }\n",
              "\n",
              "    [theme=dark] .colab-df-convert:hover {\n",
              "      background-color: #434B5C;\n",
              "      box-shadow: 0px 1px 3px 1px rgba(0, 0, 0, 0.15);\n",
              "      filter: drop-shadow(0px 1px 2px rgba(0, 0, 0, 0.3));\n",
              "      fill: #FFFFFF;\n",
              "    }\n",
              "  </style>\n",
              "\n",
              "    <script>\n",
              "      const buttonEl =\n",
              "        document.querySelector('#df-b5b09ee9-d538-4d74-970c-4717a9b496ee button.colab-df-convert');\n",
              "      buttonEl.style.display =\n",
              "        google.colab.kernel.accessAllowed ? 'block' : 'none';\n",
              "\n",
              "      async function convertToInteractive(key) {\n",
              "        const element = document.querySelector('#df-b5b09ee9-d538-4d74-970c-4717a9b496ee');\n",
              "        const dataTable =\n",
              "          await google.colab.kernel.invokeFunction('convertToInteractive',\n",
              "                                                    [key], {});\n",
              "        if (!dataTable) return;\n",
              "\n",
              "        const docLinkHtml = 'Like what you see? Visit the ' +\n",
              "          '<a target=\"_blank\" href=https://colab.research.google.com/notebooks/data_table.ipynb>data table notebook</a>'\n",
              "          + ' to learn more about interactive tables.';\n",
              "        element.innerHTML = '';\n",
              "        dataTable['output_type'] = 'display_data';\n",
              "        await google.colab.output.renderOutput(dataTable, element);\n",
              "        const docLink = document.createElement('div');\n",
              "        docLink.innerHTML = docLinkHtml;\n",
              "        element.appendChild(docLink);\n",
              "      }\n",
              "    </script>\n",
              "  </div>\n",
              "\n",
              "\n",
              "<div id=\"df-4ab437e1-92cf-412d-a24e-a12ca7deab03\">\n",
              "  <button class=\"colab-df-quickchart\" onclick=\"quickchart('df-4ab437e1-92cf-412d-a24e-a12ca7deab03')\"\n",
              "            title=\"Suggest charts\"\n",
              "            style=\"display:none;\">\n",
              "\n",
              "<svg xmlns=\"http://www.w3.org/2000/svg\" height=\"24px\"viewBox=\"0 0 24 24\"\n",
              "     width=\"24px\">\n",
              "    <g>\n",
              "        <path d=\"M19 3H5c-1.1 0-2 .9-2 2v14c0 1.1.9 2 2 2h14c1.1 0 2-.9 2-2V5c0-1.1-.9-2-2-2zM9 17H7v-7h2v7zm4 0h-2V7h2v10zm4 0h-2v-4h2v4z\"/>\n",
              "    </g>\n",
              "</svg>\n",
              "  </button>\n",
              "\n",
              "<style>\n",
              "  .colab-df-quickchart {\n",
              "      --bg-color: #E8F0FE;\n",
              "      --fill-color: #1967D2;\n",
              "      --hover-bg-color: #E2EBFA;\n",
              "      --hover-fill-color: #174EA6;\n",
              "      --disabled-fill-color: #AAA;\n",
              "      --disabled-bg-color: #DDD;\n",
              "  }\n",
              "\n",
              "  [theme=dark] .colab-df-quickchart {\n",
              "      --bg-color: #3B4455;\n",
              "      --fill-color: #D2E3FC;\n",
              "      --hover-bg-color: #434B5C;\n",
              "      --hover-fill-color: #FFFFFF;\n",
              "      --disabled-bg-color: #3B4455;\n",
              "      --disabled-fill-color: #666;\n",
              "  }\n",
              "\n",
              "  .colab-df-quickchart {\n",
              "    background-color: var(--bg-color);\n",
              "    border: none;\n",
              "    border-radius: 50%;\n",
              "    cursor: pointer;\n",
              "    display: none;\n",
              "    fill: var(--fill-color);\n",
              "    height: 32px;\n",
              "    padding: 0;\n",
              "    width: 32px;\n",
              "  }\n",
              "\n",
              "  .colab-df-quickchart:hover {\n",
              "    background-color: var(--hover-bg-color);\n",
              "    box-shadow: 0 1px 2px rgba(60, 64, 67, 0.3), 0 1px 3px 1px rgba(60, 64, 67, 0.15);\n",
              "    fill: var(--button-hover-fill-color);\n",
              "  }\n",
              "\n",
              "  .colab-df-quickchart-complete:disabled,\n",
              "  .colab-df-quickchart-complete:disabled:hover {\n",
              "    background-color: var(--disabled-bg-color);\n",
              "    fill: var(--disabled-fill-color);\n",
              "    box-shadow: none;\n",
              "  }\n",
              "\n",
              "  .colab-df-spinner {\n",
              "    border: 2px solid var(--fill-color);\n",
              "    border-color: transparent;\n",
              "    border-bottom-color: var(--fill-color);\n",
              "    animation:\n",
              "      spin 1s steps(1) infinite;\n",
              "  }\n",
              "\n",
              "  @keyframes spin {\n",
              "    0% {\n",
              "      border-color: transparent;\n",
              "      border-bottom-color: var(--fill-color);\n",
              "      border-left-color: var(--fill-color);\n",
              "    }\n",
              "    20% {\n",
              "      border-color: transparent;\n",
              "      border-left-color: var(--fill-color);\n",
              "      border-top-color: var(--fill-color);\n",
              "    }\n",
              "    30% {\n",
              "      border-color: transparent;\n",
              "      border-left-color: var(--fill-color);\n",
              "      border-top-color: var(--fill-color);\n",
              "      border-right-color: var(--fill-color);\n",
              "    }\n",
              "    40% {\n",
              "      border-color: transparent;\n",
              "      border-right-color: var(--fill-color);\n",
              "      border-top-color: var(--fill-color);\n",
              "    }\n",
              "    60% {\n",
              "      border-color: transparent;\n",
              "      border-right-color: var(--fill-color);\n",
              "    }\n",
              "    80% {\n",
              "      border-color: transparent;\n",
              "      border-right-color: var(--fill-color);\n",
              "      border-bottom-color: var(--fill-color);\n",
              "    }\n",
              "    90% {\n",
              "      border-color: transparent;\n",
              "      border-bottom-color: var(--fill-color);\n",
              "    }\n",
              "  }\n",
              "</style>\n",
              "\n",
              "  <script>\n",
              "    async function quickchart(key) {\n",
              "      const quickchartButtonEl =\n",
              "        document.querySelector('#' + key + ' button');\n",
              "      quickchartButtonEl.disabled = true;  // To prevent multiple clicks.\n",
              "      quickchartButtonEl.classList.add('colab-df-spinner');\n",
              "      try {\n",
              "        const charts = await google.colab.kernel.invokeFunction(\n",
              "            'suggestCharts', [key], {});\n",
              "      } catch (error) {\n",
              "        console.error('Error during call to suggestCharts:', error);\n",
              "      }\n",
              "      quickchartButtonEl.classList.remove('colab-df-spinner');\n",
              "      quickchartButtonEl.classList.add('colab-df-quickchart-complete');\n",
              "    }\n",
              "    (() => {\n",
              "      let quickchartButtonEl =\n",
              "        document.querySelector('#df-4ab437e1-92cf-412d-a24e-a12ca7deab03 button');\n",
              "      quickchartButtonEl.style.display =\n",
              "        google.colab.kernel.accessAllowed ? 'block' : 'none';\n",
              "    })();\n",
              "  </script>\n",
              "</div>\n",
              "\n",
              "    </div>\n",
              "  </div>\n"
            ],
            "application/vnd.google.colaboratory.intrinsic+json": {
              "type": "dataframe",
              "variable_name": "movies",
              "summary": "{\n  \"name\": \"movies\",\n  \"rows\": 200,\n  \"fields\": [\n    {\n      \"column\": \"Title\",\n      \"properties\": {\n        \"dtype\": \"string\",\n        \"num_unique_values\": 197,\n        \"samples\": [\n          \"Harry Potter and the Goblet of Fire\",\n          \"Monsters Inc.\",\n          \"Star Wars: Episode VI - Return of the Jedi\"\n        ],\n        \"semantic_type\": \"\",\n        \"description\": \"\"\n      }\n    },\n    {\n      \"column\": \"Gross\",\n      \"properties\": {\n        \"dtype\": \"number\",\n        \"std\": 170567531,\n        \"min\": 9183673,\n        \"max\": 936662225,\n        \"num_unique_values\": 199,\n        \"samples\": [\n          45306425,\n          858373000,\n          229086679\n        ],\n        \"semantic_type\": \"\",\n        \"description\": \"\"\n      }\n    },\n    {\n      \"column\": \"Gross (Adjusted)\",\n      \"properties\": {\n        \"dtype\": \"number\",\n        \"std\": 227797683,\n        \"min\": 370330510,\n        \"max\": 1895421694,\n        \"num_unique_values\": 200,\n        \"samples\": [\n          504180960,\n          892669593,\n          715038755\n        ],\n        \"semantic_type\": \"\",\n        \"description\": \"\"\n      }\n    },\n    {\n      \"column\": \"Year\",\n      \"properties\": {\n        \"dtype\": \"number\",\n        \"std\": 22,\n        \"min\": 1921,\n        \"max\": 2019,\n        \"num_unique_values\": 74,\n        \"samples\": [\n          1997,\n          2011,\n          1994\n        ],\n        \"semantic_type\": \"\",\n        \"description\": \"\"\n      }\n    }\n  ]\n}"
            }
          },
          "metadata": {},
          "execution_count": 11
        }
      ],
      "source": [
        "csvFile = 'https://raw.githubusercontent.com/csbfx/advpy122-data/master/top_movies_2020.csv'\n",
        "\n",
        "movies = pd.read_csv(csvFile)\n",
        "movies.head()"
      ]
    },
    {
      "cell_type": "markdown",
      "source": [
        "### Initial data exploration"
      ],
      "metadata": {
        "id": "of1jJGGAJ6_G"
      }
    },
    {
      "cell_type": "markdown",
      "metadata": {
        "id": "3wyNMxsme2fj"
      },
      "source": [
        "We can examine the contents of the resultant DataFrame using the `head()` and `tail()` commands:"
      ]
    },
    {
      "cell_type": "code",
      "execution_count": 12,
      "metadata": {
        "id": "cp8cgjyse2fj",
        "colab": {
          "base_uri": "https://localhost:8080/"
        },
        "outputId": "9de49048-f9f6-4947-acbb-5fc6de101b49"
      },
      "outputs": [
        {
          "output_type": "stream",
          "name": "stdout",
          "text": [
            "                                Title      Gross  Gross (Adjusted)  Year\n",
            "0                  Gone with the Wind  200852579        1895421694  1939\n",
            "1  Star Wars: Episode IV - A New Hope  460998507        1668979715  1977\n",
            "2                  The Sound of Music  159287539        1335086324  1965\n"
          ]
        }
      ],
      "source": [
        "### Take a look at the top 3 values of the file\n",
        "print(movies.head(3))"
      ]
    },
    {
      "cell_type": "code",
      "source": [
        "### How about the last 5 values of a the file?\n",
        "print(movies.tail(5))"
      ],
      "metadata": {
        "id": "Op7hgmy7JwaU",
        "colab": {
          "base_uri": "https://localhost:8080/"
        },
        "outputId": "3123e737-07ca-4343-f831-a2714a09c3fa"
      },
      "execution_count": 13,
      "outputs": [
        {
          "output_type": "stream",
          "name": "stdout",
          "text": [
            "                Title      Gross  Gross (Adjusted)  Year\n",
            "195            Patton   61749765         373287682  1970\n",
            "196  Fatal Attraction  156645693         371808159  1987\n",
            "197        Iron Man 2  312433331         371691971  2010\n",
            "198          Zootopia  341268248         371109157  2016\n",
            "199         Liar Liar  181410615         370330510  1997\n"
          ]
        }
      ]
    },
    {
      "cell_type": "markdown",
      "metadata": {
        "id": "L8uiEv0ue2fl"
      },
      "source": [
        "Use the info() method to get a quick description of the dataframe"
      ]
    },
    {
      "cell_type": "code",
      "execution_count": 14,
      "metadata": {
        "id": "rYu2xgUme2fl",
        "colab": {
          "base_uri": "https://localhost:8080/"
        },
        "outputId": "a96f0ec7-98d3-4a39-caad-59040f598099"
      },
      "outputs": [
        {
          "output_type": "stream",
          "name": "stdout",
          "text": [
            "<class 'pandas.core.frame.DataFrame'>\n",
            "RangeIndex: 200 entries, 0 to 199\n",
            "Data columns (total 4 columns):\n",
            " #   Column            Non-Null Count  Dtype \n",
            "---  ------            --------------  ----- \n",
            " 0   Title             200 non-null    object\n",
            " 1   Gross             200 non-null    int64 \n",
            " 2   Gross (Adjusted)  200 non-null    int64 \n",
            " 3   Year              200 non-null    int64 \n",
            "dtypes: int64(3), object(1)\n",
            "memory usage: 6.4+ KB\n"
          ]
        }
      ],
      "source": [
        "### Get a quick summary of the data using the info() method\n",
        "movies.info()"
      ]
    },
    {
      "cell_type": "markdown",
      "source": [
        "# Working to filter different elements"
      ],
      "metadata": {
        "id": "AL-bvKhEZo6K"
      }
    },
    {
      "cell_type": "markdown",
      "source": [
        "Using iloc and loc to extract specific rows and columns"
      ],
      "metadata": {
        "id": "VU4n-R0ypGwy"
      }
    },
    {
      "cell_type": "code",
      "source": [
        "### Get the first 10 elements (movies) of the second column and convert it into a series with a name\n",
        "second_column_series = movies.iloc[:10, 1].rename(\"Second_Column\")\n",
        "print(second_column_series)"
      ],
      "metadata": {
        "id": "ENqPweADZnlC",
        "colab": {
          "base_uri": "https://localhost:8080/"
        },
        "outputId": "72f7d74f-6081-4b2c-aa16-09c3758f1122"
      },
      "execution_count": 15,
      "outputs": [
        {
          "output_type": "stream",
          "name": "stdout",
          "text": [
            "0    200852579\n",
            "1    460998507\n",
            "2    159287539\n",
            "3    435110554\n",
            "4    659363944\n",
            "5     65500000\n",
            "6    260758300\n",
            "7    111721910\n",
            "8    232906145\n",
            "9    184925486\n",
            "Name: Second_Column, dtype: int64\n"
          ]
        }
      ]
    },
    {
      "cell_type": "code",
      "source": [
        "### Get the names of the first 10 movies and convert it into a series and give it type string\n",
        "movie_names_series = movies.iloc[:10, 0].astype(str).rename(\"Movie_Names\")  # First column is \"Movie\"\n",
        "print(movie_names_series)"
      ],
      "metadata": {
        "id": "kRy9tINCEYoh",
        "colab": {
          "base_uri": "https://localhost:8080/"
        },
        "outputId": "1be3fc17-b9b0-484e-c51f-a72da20d7f12"
      },
      "execution_count": 16,
      "outputs": [
        {
          "output_type": "stream",
          "name": "stdout",
          "text": [
            "0                    Gone with the Wind\n",
            "1    Star Wars: Episode IV - A New Hope\n",
            "2                    The Sound of Music\n",
            "3            E.T. the Extra-Terrestrial\n",
            "4                               Titanic\n",
            "5                  The Ten Commandments\n",
            "6                                  Jaws\n",
            "7                        Doctor Zhivago\n",
            "8                          The Exorcist\n",
            "9       Snow White and the Seven Dwarfs\n",
            "Name: Movie_Names, dtype: object\n"
          ]
        }
      ]
    },
    {
      "cell_type": "code",
      "source": [
        "### Create a smaller dataframe with last 20 elements and all columns except 'Year'. Give the columns new custom names (your choice).\n",
        "small_df = movies.iloc[-20:, :-1]\n",
        "small_df.columns = ['Film', 'Revenue', 'Adjusted_Revenue']\n",
        "print(small_df)"
      ],
      "metadata": {
        "id": "i2B4YKO0F1aH",
        "colab": {
          "base_uri": "https://localhost:8080/"
        },
        "outputId": "a8c9df4f-5ee4-4db8-b60c-651925167b58"
      },
      "execution_count": 17,
      "outputs": [
        {
          "output_type": "stream",
          "name": "stdout",
          "text": [
            "                                         Film    Revenue  Adjusted_Revenue\n",
            "180                   Guardians of the Galaxy  333176600         385834112\n",
            "181                                 Furious 7  353007020         384393006\n",
            "182                       Mission: Impossible  180981856         383664957\n",
            "183     The Hunger Games: Mockingjay - Part 1  337135885         381611053\n",
            "184                                   Minions  336045770         381492054\n",
            "185    Harry Potter and the Half-Blood Prince  302305431         381195025\n",
            "186                      Saturday Night Fever   94213184         380466039\n",
            "187                            On Golden Pond  119285432         380274891\n",
            "188     Austin Powers: The Spy Who Shagged Me  206040086         380038767\n",
            "189  Harry Potter and the Prisoner of Azkaban  249975996         378596724\n",
            "190                            Bruce Almighty  242829261         377331774\n",
            "191                                Funny Girl   52223306         375170115\n",
            "192                    Mission: Impossible II  215409889         374469239\n",
            "193                               Rush Hour 2  226164286         374410208\n",
            "194                                 Apollo 13  173837933         373466649\n",
            "195                                    Patton   61749765         373287682\n",
            "196                          Fatal Attraction  156645693         371808159\n",
            "197                                Iron Man 2  312433331         371691971\n",
            "198                                  Zootopia  341268248         371109157\n",
            "199                                 Liar Liar  181410615         370330510\n"
          ]
        }
      ]
    },
    {
      "cell_type": "markdown",
      "source": [
        "Subsetting the dataframe based on conditions"
      ],
      "metadata": {
        "id": "QK9I_3ripSwv"
      }
    },
    {
      "cell_type": "code",
      "source": [
        "### Create a smaller dataframe with movies made in the year 2000s\n",
        "movies_2000s = movies[movies['Year'] >= 2000]\n",
        "print(movies_2000s)"
      ],
      "metadata": {
        "id": "TdIg-TSgoqzL",
        "colab": {
          "base_uri": "https://localhost:8080/"
        },
        "outputId": "05a0c093-7d1c-45d8-9049-089e6c6f0337"
      },
      "execution_count": 18,
      "outputs": [
        {
          "output_type": "stream",
          "name": "stdout",
          "text": [
            "                                          Title      Gross  Gross (Adjusted)  \\\n",
            "10   Star Wars: Episode VII - The Force Awakens  936662225        1013038487   \n",
            "14                                       Avatar  760507625         911790952   \n",
            "15                            Avengers: Endgame  858373000         892669593   \n",
            "28                                 The Avengers  623357910         720376844   \n",
            "29                               Jurassic World  652270625         719518552   \n",
            "..                                          ...        ...               ...   \n",
            "190                              Bruce Almighty  242829261         377331774   \n",
            "192                      Mission: Impossible II  215409889         374469239   \n",
            "193                                 Rush Hour 2  226164286         374410208   \n",
            "197                                  Iron Man 2  312433331         371691971   \n",
            "198                                    Zootopia  341268248         371109157   \n",
            "\n",
            "     Year  \n",
            "10   2015  \n",
            "14   2009  \n",
            "15   2019  \n",
            "28   2012  \n",
            "29   2015  \n",
            "..    ...  \n",
            "190  2003  \n",
            "192  2000  \n",
            "193  2001  \n",
            "197  2010  \n",
            "198  2016  \n",
            "\n",
            "[83 rows x 4 columns]\n"
          ]
        }
      ]
    },
    {
      "cell_type": "code",
      "source": [
        "### How many movies Gross (use 'Gross (Adjusted)') over 1,500,000,000?\n",
        "over_1_5_billion = movies[movies['Gross (Adjusted)'] > 1500000000]\n",
        "print(len(over_1_5_billion))"
      ],
      "metadata": {
        "id": "Tf3HYCn5JDB8",
        "colab": {
          "base_uri": "https://localhost:8080/"
        },
        "outputId": "6593c722-3a51-4c2d-ec4e-3be8178a57f5"
      },
      "execution_count": 19,
      "outputs": [
        {
          "output_type": "stream",
          "name": "stdout",
          "text": [
            "2\n"
          ]
        }
      ]
    },
    {
      "cell_type": "markdown",
      "source": [
        "Customizing the dataframe"
      ],
      "metadata": {
        "id": "dg7NUNTCpbSU"
      }
    },
    {
      "cell_type": "code",
      "source": [
        "### Use DataFrame.columns to change the column name to 'Movie','Gross', 'Gross_adj', and 'Year'\n",
        "movies.columns = ['Movie', 'Gross', 'Gross_adj', 'Year']\n",
        "print(movies.head())"
      ],
      "metadata": {
        "id": "jLeVnvOtplcU",
        "colab": {
          "base_uri": "https://localhost:8080/"
        },
        "outputId": "a5d5c5c8-7589-4af8-ee96-7789495c6874"
      },
      "execution_count": 20,
      "outputs": [
        {
          "output_type": "stream",
          "name": "stdout",
          "text": [
            "                                Movie      Gross   Gross_adj  Year\n",
            "0                  Gone with the Wind  200852579  1895421694  1939\n",
            "1  Star Wars: Episode IV - A New Hope  460998507  1668979715  1977\n",
            "2                  The Sound of Music  159287539  1335086324  1965\n",
            "3          E.T. the Extra-Terrestrial  435110554  1329174791  1982\n",
            "4                             Titanic  659363944  1270101626  1997\n"
          ]
        }
      ]
    },
    {
      "cell_type": "code",
      "source": [
        "### Set the 'Movies' column as the index\n",
        "movies.set_index('Movie', inplace=True)\n",
        "print(movies.head())"
      ],
      "metadata": {
        "id": "GOrFVLT4IgBH",
        "colab": {
          "base_uri": "https://localhost:8080/"
        },
        "outputId": "29941ec8-caeb-42c0-f66f-a57478babd7d"
      },
      "execution_count": 21,
      "outputs": [
        {
          "output_type": "stream",
          "name": "stdout",
          "text": [
            "                                        Gross   Gross_adj  Year\n",
            "Movie                                                          \n",
            "Gone with the Wind                  200852579  1895421694  1939\n",
            "Star Wars: Episode IV - A New Hope  460998507  1668979715  1977\n",
            "The Sound of Music                  159287539  1335086324  1965\n",
            "E.T. the Extra-Terrestrial          435110554  1329174791  1982\n",
            "Titanic                             659363944  1270101626  1997\n"
          ]
        }
      ]
    },
    {
      "cell_type": "markdown",
      "source": [
        "Getting some statistic about the data"
      ],
      "metadata": {
        "id": "qwl2u9Bppmn1"
      }
    },
    {
      "cell_type": "code",
      "source": [
        "### Get some statistical information about the 'Gross' column\n",
        "print(movies['Gross'].describe())"
      ],
      "metadata": {
        "id": "00o1Bumept8i",
        "colab": {
          "base_uri": "https://localhost:8080/"
        },
        "outputId": "9c66cbfd-0da7-4e39-e059-fb274398e85f"
      },
      "execution_count": 22,
      "outputs": [
        {
          "output_type": "stream",
          "name": "stdout",
          "text": [
            "count    2.000000e+02\n",
            "mean     2.564920e+08\n",
            "std      1.705675e+08\n",
            "min      9.183673e+06\n",
            "25%      1.169264e+08\n",
            "50%      2.341963e+08\n",
            "75%      3.633033e+08\n",
            "max      9.366622e+08\n",
            "Name: Gross, dtype: float64\n"
          ]
        }
      ]
    },
    {
      "cell_type": "code",
      "source": [
        "### What is the average 'Gross (Adjusted)' value for Movies from the 1990s?\n",
        "movies_1990s = movies[(movies['Year'] >= 1990) & (movies['Year'] < 2000)]\n",
        "average_gross_adj_1990s = movies_1990s['Gross_adj'].mean()\n",
        "print(average_gross_adj_1990s)"
      ],
      "metadata": {
        "id": "46hKwDutp0yD",
        "colab": {
          "base_uri": "https://localhost:8080/"
        },
        "outputId": "032507b3-0ea2-47df-ec41-ef07869a08be"
      },
      "execution_count": 23,
      "outputs": [
        {
          "output_type": "stream",
          "name": "stdout",
          "text": [
            "533060043.13793105\n"
          ]
        }
      ]
    },
    {
      "cell_type": "code",
      "source": [
        "### What is the standard deviation of 'Gross (Adjusted)'?\n",
        "std_gross_adj = movies['Gross_adj'].std()\n",
        "print(std_gross_adj)"
      ],
      "metadata": {
        "id": "eg4AevDxF0_T",
        "colab": {
          "base_uri": "https://localhost:8080/"
        },
        "outputId": "7fcb6c43-8f1d-4120-ebfb-5e93b235974b"
      },
      "execution_count": 24,
      "outputs": [
        {
          "output_type": "stream",
          "name": "stdout",
          "text": [
            "227797683.44724277\n"
          ]
        }
      ]
    }
  ],
  "metadata": {
    "hide_input": false,
    "kernelspec": {
      "display_name": "Python 3",
      "language": "python",
      "name": "python3"
    },
    "language_info": {
      "codemirror_mode": {
        "name": "ipython",
        "version": 3
      },
      "file_extension": ".py",
      "mimetype": "text/x-python",
      "name": "python",
      "nbconvert_exporter": "python",
      "pygments_lexer": "ipython3",
      "version": "3.8.3"
    },
    "toc": {
      "base_numbering": 1,
      "nav_menu": {},
      "number_sections": true,
      "sideBar": true,
      "skip_h1_title": false,
      "title_cell": "Table of Contents",
      "title_sidebar": "Contents",
      "toc_cell": false,
      "toc_position": {},
      "toc_section_display": true,
      "toc_window_display": false
    },
    "colab": {
      "provenance": []
    }
  },

"### Description
###Top 3 values: movies.head(3) displays the first 3 rows of the dataset.

###Last 5 values: movies.tail(5) displays the last 5 rows of the dataset.

### Summary of the data: movies.info() provides a concise summary of the DataFrame, including column names, non-null counts, and data types.

###First 10 elements of the second column: movies.iloc[:10, 1] selects the first 10 rows of the second column (index 1), and .rename("Second_Column") gives it a name.

###First 10 movie names as a string series: movies['Movie'].head(10).astype(str).rename("Movie_Names") extracts the first 10 movie names, converts them to strings, and renames the series.

###Smaller DataFrame with last 20 elements: movies.iloc[-20:, :-1] selects the last 20 rows and excludes the 'Year' column. The columns are renamed using .columns.

###Movies from the 2000s: movies[movies['Year'] >= 2000] filters rows where the 'Year' is 2000 or later.

###Movies with Gross (Adjusted) over 1.5 billion: movies[movies['Gross (Adjusted)'] > 1500000000] filters rows where 'Gross (Adjusted)' exceeds 1.5 billion, and len() counts them.

###Rename columns: movies.columns = ['Movie', 'Gross', 'Gross_adj', 'Year'] renames the columns.

###Set 'Movie' as the index: movies.set_index('Movie', inplace=True) sets the 'Movie' column as the index.

###Statistical information for 'Gross': movies['Gross'].describe() provides summary statistics for the 'Gross' column.

###Average Gross (Adjusted) for 1990s movies: movies_1990s['Gross_adj'].mean() calculates the mean of 'Gross_adj' for movies from the 1990s.

###Standard deviation of Gross (Adjusted): movies['Gross_adj'].std() calculates the standard deviation of 'Gross_adj'."
